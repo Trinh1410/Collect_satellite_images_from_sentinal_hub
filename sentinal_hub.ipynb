{
 "cells": [
  {
   "attachments": {},
   "cell_type": "markdown",
   "metadata": {},
   "source": [
    "# Collect satellite images from sentinel hub"
   ]
  },
  {
   "attachments": {},
   "cell_type": "markdown",
   "metadata": {},
   "source": [
    "#### Imports"
   ]
  },
  {
   "cell_type": "code",
   "execution_count": null,
   "metadata": {},
   "outputs": [],
   "source": [
    "import matplotlib.pyplot as plt\n",
    "from geopy.distance import geodesic\n",
    "from sentinelhub import SHConfig,CRS, BBox, DataCollection, MimeType, WcsRequest, WmsRequest \n",
    "from shapely.geometry import Polygon, Point\n",
    "import base64\n",
    "import os\n",
    "import io\n",
    "from PIL import Image"
   ]
  },
  {
   "attachments": {},
   "cell_type": "markdown",
   "metadata": {},
   "source": [
    "#### Function to calculate longitude and latitude"
   ]
  },
  {
   "attachments": {},
   "cell_type": "markdown",
   "metadata": {},
   "source": [
    "Angle : The orientation angle or direction is determined\n",
    "\n",
    "Distan : distance to the coordinates of the point to be found"
   ]
  },
  {
   "cell_type": "code",
   "execution_count": null,
   "metadata": {},
   "outputs": [],
   "source": [
    "def find_point(angle, distan, longitude,latitude):\n",
    "    point = geodesic(kilometers=distan).destination((latitude,longitude), angle)\n",
    "    latitude_new = point.latitude\n",
    "    longitude_new = point.longitude\n",
    "    return longitude_new,latitude_new"
   ]
  },
  {
   "attachments": {},
   "cell_type": "markdown",
   "metadata": {},
   "source": [
    "#### Class hash table"
   ]
  },
  {
   "attachments": {},
   "cell_type": "markdown",
   "metadata": {},
   "source": [
    "Use longitude to hash into keys. "
   ]
  },
  {
   "cell_type": "code",
   "execution_count": null,
   "metadata": {},
   "outputs": [],
   "source": [
    "class hash_table:\n",
    "    def __init__(self,size):\n",
    "        self.table = [[]]*size\n",
    "    def hash_func(self,longitude):\n",
    "        longitude = int(str(longitude).replace('.',''))\n",
    "        key_1 = longitude % len(self.table)\n",
    "        key_2 = (longitude + key_1)% len(self.table)\n",
    "        return key_1,key_2\n",
    "    def set_hash(self,longitude,latitude):\n",
    "        key = ''\n",
    "        key_1,key_2 = self.hash_func(longitude)\n",
    "        if self.table[key_1] == []:\n",
    "            self.table[key_1] = [key_1,[[longitude,latitude]]]\n",
    "            key = key_1\n",
    "        elif self.table[key_2] == []:\n",
    "            self.table[key_2] = [key_2,[[longitude,latitude]]] \n",
    "            key = key_2      \n",
    "        else:\n",
    "            for i in range(len(self.table)):\n",
    "                if self.table[i] == []:\n",
    "                    self.table[i] = [i,[[longitude,latitude]]]\n",
    "                    key = i\n",
    "                    break\n",
    "        return key\n",
    "    def get_value(self,longitude,latitude):\n",
    "        key_1,key_2 = self.hash_func(longitude)\n",
    "        if self.table[key_1][1][0][1] == latitude:\n",
    "            return self.table[key_1]\n",
    "        elif self.table[key_2][1][0][1] == latitude:\n",
    "            return self.table[key_2]\n",
    "        else:\n",
    "            for i in range(len(self.table)):\n",
    "                if self.table[i][1][0][1] == latitude:\n",
    "                    return self.table[i]\n",
    "    def del_value(self,key):\n",
    "        self.table[key] = []\n",
    "        return  "
   ]
  },
  {
   "attachments": {},
   "cell_type": "markdown",
   "metadata": {},
   "source": [
    "#### Class Graph"
   ]
  },
  {
   "attachments": {},
   "cell_type": "markdown",
   "metadata": {},
   "source": [
    "Use graph to connect all points in the map to improve the speed of finding points around a point by O(1)"
   ]
  },
  {
   "cell_type": "code",
   "execution_count": null,
   "metadata": {},
   "outputs": [],
   "source": [
    "class Graph:\n",
    "    def __init__(self):\n",
    "        self.nodes = {}\n",
    "    def add_node(self, key,longitude,latitude):\n",
    "        if key not in self.nodes:\n",
    "            self.nodes[key] = [[longitude,latitude],[]]\n",
    "    def add_edge(self, key_1, key_2):\n",
    "        if key_1 in self.nodes and key_2 in self.nodes:\n",
    "            self.nodes[key_1][1].append(key_2)\n",
    "            self.nodes[key_2][1].append(key_1)            \n",
    "    def get_graph(self):\n",
    "        return self.nodes\n",
    "    def neighbors(self, key):\n",
    "        if key in self.nodes:\n",
    "            return self.nodes[key][1]\n",
    "        else:\n",
    "            return []"
   ]
  },
  {
   "attachments": {},
   "cell_type": "markdown",
   "metadata": {},
   "source": [
    "#### Delineate the area where images need to be collected"
   ]
  },
  {
   "attachments": {},
   "cell_type": "markdown",
   "metadata": {},
   "source": [
    "Visit the website to localize the area where data is needed\n",
    "\n",
    "#https://apps.sentinel-hub.com/requests-builder/ "
   ]
  },
  {
   "cell_type": "code",
   "execution_count": null,
   "metadata": {},
   "outputs": [],
   "source": [
    "graph = Graph()\n",
    "hash = hash_table(10000)\n",
    "selected_area = [\n",
    "      [12.44693,41.8941],\n",
    "      [12.484271,41.930379],\n",
    "      [12.484271,41.930379],\n",
    "      [12.565332,41.895888],\n",
    "      [12.536145,41.844501],\n",
    "      [12.423519,41.84399],\n",
    "      [12.399483,41.880042],\n",
    "      [12.44693,41.8941]\n",
    "    ]\n",
    "polygon = Polygon(selected_area)"
   ]
  },
  {
   "attachments": {},
   "cell_type": "markdown",
   "metadata": {},
   "source": [
    "#### Determine the number of rows and columns to scan through points on the map."
   ]
  },
  {
   "cell_type": "code",
   "execution_count": null,
   "metadata": {},
   "outputs": [],
   "source": [
    "number_of_column = 25\n",
    "number_of_row = 22\n",
    "\n",
    "list_of_connection_points = [[[]]*(number_of_column+1) for i in range(0,2)]\n",
    "\n",
    "#List of longitudes corresponding to each latitude. This list is used to find any point on the map.\n",
    "list_longitudes_align_with_latitude = {'latitude': []}\n",
    "\n",
    "#Location of the starting point to search for points in the area to collect data\n",
    "starting_point = [12.328209,41.786263]\n",
    "\n",
    "#Distance between points\n",
    "distance = 1\n",
    "distance_increases = 0.01\n",
    "\n",
    "#Points outside the area need to collect data\n",
    "count = 0\n"
   ]
  },
  {
   "attachments": {},
   "cell_type": "markdown",
   "metadata": {},
   "source": [
    "#### The algorithm searches for points within the data collection area"
   ]
  },
  {
   "cell_type": "code",
   "execution_count": null,
   "metadata": {},
   "outputs": [],
   "source": [
    "#Loop to find the first column points\n",
    "for i in range(0,number_of_row):    \n",
    "    \n",
    "    point_beginning_row = find_point(0,i*distance, starting_point[0], starting_point[1])\n",
    "    \n",
    "    point_to_check = Point(point_beginning_row[0],  point_beginning_row[1])\n",
    "    \n",
    "    #Check if the point belongs to the area where data needs to be collected. If so, use a hash function to get it into the table\n",
    "    if polygon.contains(point_to_check):\n",
    "        key_1 = hash.set_hash(starting_point[0],point_beginning_row[1])\n",
    "          \n",
    "    list_longitudes_align_with_latitude['latitude'].append(point_beginning_row[1])\n",
    "    \n",
    "    list_longitudes_align_with_latitude[point_beginning_row[1]] = []\n",
    "    \n",
    "    #Iterate to find each point in the row\n",
    "    for j in range(0,number_of_column):\n",
    "        points_on_the_row = find_point(90,j*distance , point_beginning_row[0] , point_beginning_row[1])\n",
    "        points_on_the_row_45 = find_point(45,j*distance_increases , points_on_the_row[0] , points_on_the_row[1])\n",
    "        \n",
    "        point_to_check = Point(points_on_the_row[0],point_beginning_row[1])\n",
    "        \n",
    "        #Check if the point belongs to the area where data needs to be collected. If so, use a hash function to get it into the table\n",
    "        if polygon.contains(point_to_check):\n",
    "            key_1 = hash.set_hash(points_on_the_row[0],point_beginning_row[1])\n",
    "            \n",
    "            #Add points to the graph\n",
    "            graph.add_node(key_1,points_on_the_row_45[0],points_on_the_row_45[1])\n",
    " \n",
    "            list_of_connection_points[1][j] = key_1\n",
    "            \n",
    "            #Create connections between points in the map\n",
    "            list_try = [j-1,j,j+1]\n",
    "            for z in list_try:\n",
    "                try:\n",
    "                    graph.add_edge(key_1,list_of_connection_points[0][z])\n",
    "                except:\n",
    "                    pass\n",
    "            if j == 0:\n",
    "                key_2 = key_1\n",
    "            else:\n",
    "                graph.add_edge(key_1,key_2)\n",
    "                key_2 = key_1   \n",
    "            list_longitudes_align_with_latitude[point_beginning_row[1]].append(points_on_the_row[0])\n",
    "        #If the point is not in the area where data needs to be collected, only put the point in the graph and not in the hash table.\n",
    "        else:\n",
    "            #Add points to the graph\n",
    "            graph.add_node(f'None{count}',points_on_the_row_45[0],points_on_the_row_45[1])\n",
    "            \n",
    "            list_of_connection_points[1][j] = f'None{count}'\n",
    "            \n",
    "            #Create connections between points in the map\n",
    "            list_try = [j-1,j,j+1]\n",
    "            for z in list_try:\n",
    "                try:\n",
    "                    graph.add_edge(f'None{count}',list_of_connection_points[0][z])\n",
    "                except:\n",
    "                    pass\n",
    "            if j == 0:\n",
    "                key_2 = f'None{count}'\n",
    "            else:\n",
    "                graph.add_edge(f'None{count}',key_2)\n",
    "                key_2 = f'None{count}'  \n",
    "        count +=1            \n",
    "        \n",
    "    list_of_connection_points[0] = list_of_connection_points[1]\n",
    "    list_of_connection_points[1] = [[]]*number_of_column"
   ]
  },
  {
   "attachments": {},
   "cell_type": "markdown",
   "metadata": {},
   "source": [
    "#### Use self.neighbor of the graph to put information about 8 points around 1 point into the hash table"
   ]
  },
  {
   "cell_type": "code",
   "execution_count": null,
   "metadata": {},
   "outputs": [],
   "source": [
    "\n",
    "for i in graph.nodes:\n",
    "    #Check for points that do not start from None\n",
    "    if not str(i).startswith('None'):\n",
    "        neigh = graph.neighbors(i)\n",
    "        \n",
    "        hash.table[i][1].append(graph.nodes[neigh[-1]][0])\n",
    "        hash.table[i].append(neigh)\n",
    "        \n",
    "        plt.scatter(hash.table[i][1][0][0],hash.table[i][1][0][1],marker='x')\n",
    "        plt.annotate(f\"{i}\",(hash.table[i][1][0][0],hash.table[i][1][0][1]), textcoords=\"offset points\", xytext=(0,10), ha='center')    \n",
    "  \n",
    "latitudes = [coord[1] for coord in selected_area]\n",
    "longitudes = [coord[0] for coord in selected_area]\n",
    "plt.plot(longitudes, latitudes, marker='o', linestyle='-')\n",
    "\n",
    "plt.ylabel('Latitude')\n",
    "plt.xlabel('Longitude')\n",
    "plt.title('Points located in the area where data needs to be collected')\n",
    "\n",
    "plt.grid(True)\n",
    "plt.show() "
   ]
  },
  {
   "attachments": {},
   "cell_type": "markdown",
   "metadata": {},
   "source": [
    "#### Use binary search to search for any point in any area in the area that needs to collect data"
   ]
  },
  {
   "cell_type": "code",
   "execution_count": null,
   "metadata": {},
   "outputs": [],
   "source": [
    "def binary_search(list_search, target):\n",
    "    left, right = 0, len(list_search) - 1\n",
    "    prev_index = ''\n",
    "    \n",
    "    for i in range(len(list_search)):\n",
    "        mid = left + (right - left) // 2\n",
    "        \n",
    "        if list_search[mid] > target:\n",
    "   \n",
    "            right = mid - 1\n",
    "        else:\n",
    "            prev_index = mid  \n",
    "            left = mid + 1\n",
    "    return list_search[prev_index]"
   ]
  },
  {
   "attachments": {},
   "cell_type": "markdown",
   "metadata": {},
   "source": [
    "#### Example of finding random points in the area where data needs to be collected"
   ]
  },
  {
   "cell_type": "code",
   "execution_count": null,
   "metadata": {},
   "outputs": [],
   "source": [
    "point_search = [12.4887,41.9004]\n",
    "try:\n",
    "    latitude = binary_search(list_longitudes_align_with_latitude['latitude'],point_search[1])\n",
    "    longitude = binary_search(list_longitudes_align_with_latitude[latitude],point_search[0])\n",
    "    print(hash.get_value(longitude,latitude))\n",
    "except:\n",
    "    print('not in hash.table')"
   ]
  },
  {
   "attachments": {},
   "cell_type": "markdown",
   "metadata": {},
   "source": [
    "#### Function used to draw a magnetic image after collecting data"
   ]
  },
  {
   "cell_type": "code",
   "execution_count": null,
   "metadata": {},
   "outputs": [],
   "source": [
    "def plot_image(image):\n",
    "    plt.title('sentinal')\n",
    "    plt.ylabel('Latitude')\n",
    "    plt.xlabel('Longitude')\n",
    "    plt.imshow(image)"
   ]
  },
  {
   "attachments": {},
   "cell_type": "markdown",
   "metadata": {},
   "source": [
    "#### Connect your mysql server"
   ]
  },
  {
   "cell_type": "code",
   "execution_count": null,
   "metadata": {},
   "outputs": [],
   "source": [
    "import mysql.connector\n",
    "\n",
    "host = \"127.0.0.1\"\n",
    "user = \"root\"\n",
    "password = \"*********\"\n",
    " \n",
    "conn = mysql.connector.connect(\n",
    "    host=host,\n",
    "    user=user,\n",
    "    password=password,\n",
    ")\n",
    "\n",
    "if conn.is_connected():\n",
    "    print(\"connected\")\n",
    "\n",
    "cur = conn.cursor()"
   ]
  },
  {
   "attachments": {},
   "cell_type": "markdown",
   "metadata": {},
   "source": [
    "#### Create a database to store data collected from seninel_hub"
   ]
  },
  {
   "cell_type": "code",
   "execution_count": null,
   "metadata": {},
   "outputs": [],
   "source": [
    "cur.execute(\"CREATE DATABASE SentinelHubData\")\n",
    "cur.execute(\"USE SentinelHubData\")"
   ]
  },
  {
   "attachments": {},
   "cell_type": "markdown",
   "metadata": {},
   "source": [
    "#### Create Table"
   ]
  },
  {
   "cell_type": "code",
   "execution_count": null,
   "metadata": {},
   "outputs": [],
   "source": [
    "create_table = \"\"\"\n",
    "    CREATE TABLE image (\n",
    "    Key_image INT PRIMARY KEY,\n",
    "    Longitude float,\n",
    "    Latitude float,\n",
    "    Neighbors varchar(255)\n",
    ");\"\"\"\n",
    "cur.execute(create_table)\n",
    "\n",
    "create_table_2 = \"\"\"\n",
    "    CREATE TABLE date_image (\n",
    "    Key_image INT,\n",
    "    Date_time datetime,\n",
    "    image longblob,\n",
    "    FOREIGN KEY (Key_image) REFERENCES image(key_image)\n",
    ");\n",
    "\"\"\"\n",
    "cur.execute(create_table_2)\n"
   ]
  },
  {
   "attachments": {},
   "cell_type": "markdown",
   "metadata": {},
   "source": [
    "#### Establish connection to sentinal_hub"
   ]
  },
  {
   "cell_type": "code",
   "execution_count": null,
   "metadata": {},
   "outputs": [],
   "source": [
    "id = '7448de78-8841-4e14-b7eb-4e68bbb2ec1d'\n",
    "config = SHConfig()\n",
    "config.instance_id = id\n",
    "\n",
    "if config.instance_id == '':\n",
    "    print('Unable to connect')\n",
    "else:\n",
    "    print('Connected successfully')"
   ]
  },
  {
   "attachments": {},
   "cell_type": "markdown",
   "metadata": {},
   "source": [
    "#### List of error points when collecting data"
   ]
  },
  {
   "cell_type": "code",
   "execution_count": null,
   "metadata": {},
   "outputs": [],
   "source": [
    "list_error = []"
   ]
  },
  {
   "attachments": {},
   "cell_type": "markdown",
   "metadata": {},
   "source": [
    "#### Use loop to collect images from seninal_hub"
   ]
  },
  {
   "cell_type": "code",
   "execution_count": null,
   "metadata": {},
   "outputs": [],
   "source": [
    "for i in graph.nodes:\n",
    "    if not str(i).startswith('None'):\n",
    "        betsiboka_coords_wgs84 = (hash.table[i][1][0][0], hash.table[i][1][0][1],hash.table[i][1][1][0],hash.table[i][1][1][1])\n",
    "        print(hash.table[i][0])\n",
    "        try:\n",
    "            betsiboka_bbox = BBox(bbox=betsiboka_coords_wgs84, crs=CRS.WGS84)\n",
    "            wms_true_color_request = WmsRequest(\n",
    "                data_collection=DataCollection.SENTINEL2_L1C,\n",
    "                data_folder=f\"E:/data/test/{i}\",\n",
    "                layer=\"TRUE-COLOR\",\n",
    "                bbox=betsiboka_bbox,\n",
    "                time=('2022-05-01','2022-05-31'),\n",
    "                width=500,\n",
    "                maxcc=0.5,\n",
    "                image_format = MimeType.PNG,\n",
    "                # time_difference=datetime.timedelta(hours=2),\n",
    "                config=config,\n",
    "            )\n",
    "            wms_true_color_img = wms_true_color_request.get_data()\n",
    "            # plot_image(wms_true_color_img[-1])\n",
    "            wms_true_color_request.save_data()\n",
    "\n",
    "            neighbor = [str(item) for item in hash.table[i][2]]\n",
    "            neighbor = ', '.join(neighbor)\n",
    "            \n",
    "            image = [int(i),float(hash.table[i][1][0][0]),float(hash.table[i][1][0][0]),neighbor]\n",
    "            insert_image_query = \"INSERT INTO image (Key_image, Longitude, Latitude, Neighbors) VALUES (%s, %s, %s, %s)\"\n",
    "            \n",
    "            cur.execute(insert_image_query, image)\n",
    "            \n",
    "            date_image = []\n",
    "            for index, date in enumerate(wms_true_color_request.get_dates()):\n",
    "                date_image.append(str(date))\n",
    "            path = f'E:/data/test/{i}/'\n",
    "            contents = os.listdir(path)\n",
    "            \n",
    "            for z in range(len(contents)):\n",
    "                with open(f'E:/data/test/{i}/{contents[z]}/response.png','rb') as image_file:\n",
    "                    base64_bytes = base64.b64encode(image_file.read())\n",
    "                    \n",
    "                image_date = [int(i),date_image[z],base64_bytes]\n",
    "                insert_image_date_query = \"INSERT INTO date_image (Key_image, Date_Time,image) VALUES (%s, %s,%s)\"\n",
    "\n",
    "                cur.execute(insert_image_date_query, image_date)\n",
    "        except:\n",
    "            list_error.append(i)\n",
    "conn.commit()"
   ]
  },
  {
   "attachments": {},
   "cell_type": "markdown",
   "metadata": {},
   "source": [
    "#### Get images from mysql to your computer"
   ]
  },
  {
   "cell_type": "code",
   "execution_count": null,
   "metadata": {},
   "outputs": [],
   "source": [
    "#blob -> png\n",
    "cur.execute('select * from date_image;')\n",
    "rows = cur.fetchall()\n",
    "\n",
    "for i in rows:\n",
    "    base64_string = i[-1].decode()\n",
    "\n",
    "    img = Image.open(\n",
    "        io.BytesIO(\n",
    "            base64.decodebytes(bytes(base64_string, 'utf-8'))\n",
    "        )\n",
    "    )\n",
    "    img.save(f'E:/data/sql_image/image_{i[0]}.png')\n"
   ]
  }
 ],
 "metadata": {
  "kernelspec": {
   "display_name": "Python 3",
   "language": "python",
   "name": "python3"
  },
  "language_info": {
   "codemirror_mode": {
    "name": "ipython",
    "version": 3
   },
   "file_extension": ".py",
   "mimetype": "text/x-python",
   "name": "python",
   "nbconvert_exporter": "python",
   "pygments_lexer": "ipython3",
   "version": "3.11.6"
  },
  "orig_nbformat": 4
 },
 "nbformat": 4,
 "nbformat_minor": 2
}
